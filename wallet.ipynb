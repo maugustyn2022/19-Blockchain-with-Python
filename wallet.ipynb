{
 "cells": [
  {
   "cell_type": "code",
   "execution_count": 1,
   "id": "e5866f1a-b49d-446e-82e8-e4f42cc0970d",
   "metadata": {},
   "outputs": [],
   "source": [
    "# Import dependencies\n",
    "import subprocess\n",
    "import json\n",
    "import os\n",
    "from dotenv import load_dotenv\n",
    "from bit.network import NetworkAPI"
   ]
  },
  {
   "cell_type": "code",
   "execution_count": 2,
   "id": "768f9f36-3238-4b90-8dc5-6d5356bd8c81",
   "metadata": {},
   "outputs": [],
   "source": [
    "from web3 import Web3\n",
    "from dotenv import load_dotenv\n",
    "from web3.middleware import geth_poa_middleware\n",
    "from eth_account import Account\n",
    "from bit import PrivateKeyTestnet\n",
    "\n"
   ]
  },
  {
   "cell_type": "code",
   "execution_count": 3,
   "id": "005a75d6-5866-4a89-9253-83f19308a2b6",
   "metadata": {},
   "outputs": [],
   "source": [
    "w3 = Web3(Web3.HTTPProvider(\"http://127.0.0.1:8545\"))\n",
    "w3.middleware_onion.inject(geth_poa_middleware, layer=0)\n"
   ]
  },
  {
   "cell_type": "code",
   "execution_count": null,
   "id": "c38d0c14-043f-4e0b-9509-3da03e8d8fe0",
   "metadata": {},
   "outputs": [],
   "source": []
  },
  {
   "cell_type": "code",
   "execution_count": 4,
   "id": "1ecf8f0c-71fa-423a-9022-0990af964c6a",
   "metadata": {},
   "outputs": [],
   "source": [
    "# Load and set environment variables\n",
    "load_dotenv()\n",
    "mnemonic = os.getenv(\"mnemonic\")"
   ]
  },
  {
   "cell_type": "code",
   "execution_count": 5,
   "id": "c5eec0a5-c89e-4d0b-9da2-e037f965b4ff",
   "metadata": {},
   "outputs": [],
   "source": [
    "# Import constants.py and necessary functions from bit and web3\n",
    "# YOUR CODE HERE\n",
    "# think that I need to define mneumonic from a path variable\n",
    "# from constants import *\n",
    "# look up the guidence regsrding store"
   ]
  },
  {
   "cell_type": "code",
   "execution_count": 6,
   "id": "3af49bbc-24ea-4e10-bbee-8ce0f780a217",
   "metadata": {},
   "outputs": [],
   "source": [
    "def derive_wallets(coin):\n",
    "    command = f'php derive -g --mnemonic=\"{mnemonic}\" --cols=path,address,privkey,pubkey --format=json --coin=\"{coin}\" --numderive=3'\n",
    "    p = subprocess.Popen(command, stdout=subprocess.PIPE, shell=True)\n",
    "    output, err = p.communicate()\n",
    "    p_status = p.wait()\n",
    "    return json.loads(output)"
   ]
  },
  {
   "cell_type": "code",
   "execution_count": 7,
   "id": "8227fe37-fbf0-4668-b4e0-bc125a1f69ae",
   "metadata": {},
   "outputs": [
    {
     "data": {
      "text/plain": [
       "[{'path': \"m/44'/1'/0'/0/0\",\n",
       "  'address': 'n4Fp14Cauo9PB9TTMo8v9sR5hpALPWxZo8',\n",
       "  'privkey': 'cP5GnCwRxkZi5ofnV1eaAXChSzzZtLFxNgTS4ErdJR26S47YVCYQ',\n",
       "  'pubkey': '0202b4b456432a3443b39745207684452ab6c228976cf4e73f871a3d93eddd1683'},\n",
       " {'path': \"m/44'/1'/0'/0/1\",\n",
       "  'address': 'mqS7Wm4o73LQeNz6YeZvPN4PLtmuJmtTv5',\n",
       "  'privkey': 'cR6Up7cDWc6RRe7VKvqu4Fs3f88LoaAFm2D9d1pgywSmHf76DEcU',\n",
       "  'pubkey': '0367a297d7e64346e6c06b8bab6a099ec2ede6b069475e235bf5e35a95234076bf'},\n",
       " {'path': \"m/44'/1'/0'/0/2\",\n",
       "  'address': 'n1dxYj2ma6L8MjehfaJ7Zgb9tn8QzcpTNW',\n",
       "  'privkey': 'cTT2oXX3WWESkFS77qCtyyVtskCyPTyNmSpvQZcoVqBpQeVeBaQG',\n",
       "  'pubkey': '02859d6f50b9aa7b8a3f46089431f75603f146abaee51a7648ea3188af4350fc52'}]"
      ]
     },
     "execution_count": 7,
     "metadata": {},
     "output_type": "execute_result"
    }
   ],
   "source": [
    "derive_wallets(\"btc-test\")"
   ]
  },
  {
   "cell_type": "code",
   "execution_count": 8,
   "id": "d18d9326-19c1-4e0c-839b-a37310925100",
   "metadata": {},
   "outputs": [],
   "source": [
    "# Create a dictionary object called coins to store the output from `derive_wallets`.\n",
    "coins = {\n",
    "    \"ETH\":derive_wallets(\"ETH\"),\n",
    "    \"BTC\":derive_wallets(\"BTC\"),\n",
    "    \"btc-test\":derive_wallets(\"btc-test\")\n",
    "    \n",
    "}"
   ]
  },
  {
   "cell_type": "code",
   "execution_count": 9,
   "id": "116b3ea1-8893-4cc0-bb80-4d084bf6f8c5",
   "metadata": {},
   "outputs": [
    {
     "data": {
      "text/plain": [
       "{'ETH': [{'path': \"m/44'/60'/0'/0/0\",\n",
       "   'address': '0xE2C082d87260E01723e045A3ed16673f7Bd5887c',\n",
       "   'privkey': '0xdbe47b703e8f215211b15111991911606b2f0df7af4a6ffd3578dc33d5e53fec',\n",
       "   'pubkey': '0252771d6faf99634dc170cd68c49e21c5352fbcf51d61b8538f4bb1fc19b05a6c'},\n",
       "  {'path': \"m/44'/60'/0'/0/1\",\n",
       "   'address': '0x0dcf835C586E46450283B903F278F754e6f8B55D',\n",
       "   'privkey': '0x1939a361d691f5cc80162aa3f1d10e55ef6ad076bebc1785f7077bfeb91f87b1',\n",
       "   'pubkey': '0257d88d99bb82e5a43885428cf092300d1c6f99196b2ffcd2ff496701e20f2f38'},\n",
       "  {'path': \"m/44'/60'/0'/0/2\",\n",
       "   'address': '0x501d2F04e286E75E15B686F657B5455570613320',\n",
       "   'privkey': '0xec7f11cd379753eaf8c37d900bcaf5c62009b8b2af4669ebc3b4b6f99cc03aca',\n",
       "   'pubkey': '02a066cfe66fc05bec7be823a88dae4c384db0c56fcdee750365889f5652117eb5'}],\n",
       " 'BTC': [{'path': \"m/44'/0'/0'/0/0\",\n",
       "   'address': '1L7SzesPSCkxTNr3CY8QgcRU74XLhJ8zS2',\n",
       "   'privkey': 'KxejuJiJLJ6Cz7ivmP47peCCQdpdSonNuNxApKqxHoG5fH3AAaBH',\n",
       "   'pubkey': '0288c6cff4917579778c7d40d4bddb45c9c4f4f7aa6a8cefb4088ac52040b3e497'},\n",
       "  {'path': \"m/44'/0'/0'/0/1\",\n",
       "   'address': '18ZUh9wFHL9L2ZzLskwdhvTU2eyZAjNa7B',\n",
       "   'privkey': 'KwU9WaiKtz4LdrintW3pG2jqMKZRwuwPjJhKadZpfoSTdK9aurMJ',\n",
       "   'pubkey': '035ddf80506c6fbef407aaed63d08e9e3532a870c976c9dfa94e3a739f287ac3eb'},\n",
       "  {'path': \"m/44'/0'/0'/0/2\",\n",
       "   'address': '1CoUVJm5DbBRSnGWDyaihR8rbu1mxFus8u',\n",
       "   'privkey': 'KzSzVq5Z2XWvLnoktvvHvW58hRxi8YPn2DN9odmugQkNRkSwRJhv',\n",
       "   'pubkey': '027720d221868e3f1e7e7e349b51536bb7e33cc009f6434ab445be735238bc32a9'}],\n",
       " 'btc-test': [{'path': \"m/44'/1'/0'/0/0\",\n",
       "   'address': 'n4Fp14Cauo9PB9TTMo8v9sR5hpALPWxZo8',\n",
       "   'privkey': 'cP5GnCwRxkZi5ofnV1eaAXChSzzZtLFxNgTS4ErdJR26S47YVCYQ',\n",
       "   'pubkey': '0202b4b456432a3443b39745207684452ab6c228976cf4e73f871a3d93eddd1683'},\n",
       "  {'path': \"m/44'/1'/0'/0/1\",\n",
       "   'address': 'mqS7Wm4o73LQeNz6YeZvPN4PLtmuJmtTv5',\n",
       "   'privkey': 'cR6Up7cDWc6RRe7VKvqu4Fs3f88LoaAFm2D9d1pgywSmHf76DEcU',\n",
       "   'pubkey': '0367a297d7e64346e6c06b8bab6a099ec2ede6b069475e235bf5e35a95234076bf'},\n",
       "  {'path': \"m/44'/1'/0'/0/2\",\n",
       "   'address': 'n1dxYj2ma6L8MjehfaJ7Zgb9tn8QzcpTNW',\n",
       "   'privkey': 'cTT2oXX3WWESkFS77qCtyyVtskCyPTyNmSpvQZcoVqBpQeVeBaQG',\n",
       "   'pubkey': '02859d6f50b9aa7b8a3f46089431f75603f146abaee51a7648ea3188af4350fc52'}]}"
      ]
     },
     "execution_count": 9,
     "metadata": {},
     "output_type": "execute_result"
    }
   ],
   "source": [
    "coins"
   ]
  },
  {
   "cell_type": "code",
   "execution_count": 10,
   "id": "d574d3d1-19a4-4841-b3c6-1b9fc012b22b",
   "metadata": {},
   "outputs": [],
   "source": [
    "eth_pkey = coins[\"ETH\"][0]['privkey']\n",
    "\n",
    "btest_pkey = coins[\"btc-test\"][0]['privkey']"
   ]
  },
  {
   "cell_type": "code",
   "execution_count": null,
   "id": "00dbba28-c656-43e7-a45e-8bad1b048f56",
   "metadata": {},
   "outputs": [],
   "source": []
  },
  {
   "cell_type": "code",
   "execution_count": 11,
   "id": "0d98b156-4c5d-4f0d-8c6b-1ce0cce2a52d",
   "metadata": {},
   "outputs": [],
   "source": [
    "# Create a function called `priv_key_to_account` that converts privkey strings to account objects.\n",
    "def priv_key_to_account(coin, priv_key):\n",
    "    print(priv_key)\n",
    "    if coin == \"ETH\":\n",
    "        return Account.privateKeyToAccount(priv_key)\n",
    "    elif coin == \"btc-test\":\n",
    "        return PrivateKeyTestnet(priv_key)\n"
   ]
  },
  {
   "cell_type": "code",
   "execution_count": 12,
   "id": "7a417865-d74c-44b0-abae-45a8f553bcaa",
   "metadata": {},
   "outputs": [],
   "source": [
    "BTC = \"btc\""
   ]
  },
  {
   "cell_type": "code",
   "execution_count": 13,
   "id": "b1105947-ae73-4217-a1a7-aeb06d842858",
   "metadata": {},
   "outputs": [],
   "source": [
    "# Create a function called `create_tx` that creates an unsigned transaction appropriate metadata.\n",
    "def create_tx(coin,account, recipient, amount):\n",
    "    if coin == \"ETH\": \n",
    "        gasEstimate = w3.eth.estimateGas(\n",
    "            {\"from\":account.address, \"to\":recipient, \"value\": amount}\n",
    "        )\n",
    "        return { \n",
    "            \"from\": account.address,\n",
    "            \"to\": recipient,\n",
    "            \"value\": amount,\n",
    "            \"gasPrice\": w3.eth.gasPrice,\n",
    "            \"gas\": gasEstimate,\n",
    "            \"nonce\": w3.eth.getTransactionCount(eth_acc.address)\n",
    "        }\n",
    "    \n",
    "    elif coin == \"btc-test\":\n",
    "        return PrivateKeyTestnet.prepare_transaction(account.address, [(recipient, amount, BTC)])\n"
   ]
  },
  {
   "cell_type": "code",
   "execution_count": 27,
   "id": "140a7976-0999-4d07-940a-e731a706b72f",
   "metadata": {},
   "outputs": [],
   "source": [
    "# Create a function called `send_tx` that calls `create_tx`, signs and sends the transaction.\n",
    "def send_txn(coin,account,recipient, amount):\n",
    "    if coin == \"ETH\":\n",
    "        tx = create_tx(coin, account, recipient, amount)\n",
    "        signed_tx = account.sign_transaction(tx)\n",
    "        result = w3.eth.sendRawTransaction(signed_tx.rawTransaction)\n",
    "        print(result.hex())\n",
    "        return result.hex()\n",
    "    elif coin == \"btc-test\":\n",
    "        tx = create_tx(coin, account, recipient, amount)\n",
    "        tx_btctest = create_tx(coin, account, recipient, amount)\n",
    "        signed_txn = account.sign_transaction(tx)\n",
    "        print(signed_tx)\n",
    "        return NetworkAPI.broadcast_tx_testnet(signed_tx)"
   ]
  },
  {
   "cell_type": "code",
   "execution_count": 15,
   "id": "d6878c1a-9b70-4118-a29f-a8be07ff4a25",
   "metadata": {},
   "outputs": [
    {
     "name": "stdout",
     "output_type": "stream",
     "text": [
      "cP5GnCwRxkZi5ofnV1eaAXChSzzZtLFxNgTS4ErdJR26S47YVCYQ\n"
     ]
    }
   ],
   "source": [
    "#BTC Test\n",
    "account = priv_key_to_account(\"btc-test\",btest_pkey)\n"
   ]
  },
  {
   "cell_type": "code",
   "execution_count": 16,
   "id": "521fe153-7cc8-47fb-8b78-35360a5e60d9",
   "metadata": {},
   "outputs": [],
   "source": [
    "unsigned_tx = create_tx(\"btc-test\",account,\"n4Fp14Cauo9PB9TTMo8v9sR5hpALPWxZo8\",0.001)"
   ]
  },
  {
   "cell_type": "code",
   "execution_count": 17,
   "id": "8b2ba980-4f76-43da-aaf5-ef0350eaef6a",
   "metadata": {},
   "outputs": [
    {
     "name": "stdout",
     "output_type": "stream",
     "text": [
      "010000000279dafd39e75889eb42d800d232f29a41cf84b3aa3cbbc6059f13399d0354f08b010000006a4730440220229fa12b0c980f3a5e19ca57ff1ba58bb9d7e870c2b945fea41d7dd4b769615402202c365f10a33c3669d3e55fc20c2ec4fada4ff838a940d4760b1d52f8f1f965f501210202b4b456432a3443b39745207684452ab6c228976cf4e73f871a3d93eddd1683ffffffff79dafd39e75889eb42d800d232f29a41cf84b3aa3cbbc6059f13399d0354f08b000000006a4730440220057ba3a0e4b0b841db0b9fb0c077d00c82641d86c9ca3b335c9a97513756513f022021463eff3a16c0df49324f23a31da7dd8afe2a778ed804e811413547b5dac15801210202b4b456432a3443b39745207684452ab6c228976cf4e73f871a3d93eddd1683ffffffff0210270000000000001976a914f96dbb1be16ae85c6af4bddba79c5dc53a6f60f988ac8f8d1100000000001976a914f96dbb1be16ae85c6af4bddba79c5dc53a6f60f988ac00000000\n"
     ]
    }
   ],
   "source": [
    "send = send_txn(\"btc-test\",account,\"n4Fp14Cauo9PB9TTMo8v9sR5hpALPWxZo8\",.0001)"
   ]
  },
  {
   "cell_type": "code",
   "execution_count": 18,
   "id": "3d45942c-bc96-4f2c-a4ad-844da742407f",
   "metadata": {},
   "outputs": [],
   "source": [
    "# https://tbtc.bitaps.com/8bf054039d39139f05c6bb3caab384cf419af232d200d842eb8958e739fdda79/n4Fp14Cauo9PB9TTMo8v9sR5hpALPWxZo8"
   ]
  },
  {
   "cell_type": "code",
   "execution_count": 28,
   "id": "4e9e6966-c592-4377-886e-62f8458afb45",
   "metadata": {},
   "outputs": [
    {
     "name": "stdout",
     "output_type": "stream",
     "text": [
      "0xdbe47b703e8f215211b15111991911606b2f0df7af4a6ffd3578dc33d5e53fec\n"
     ]
    }
   ],
   "source": [
    "# ETC Test\n",
    "account_2 = priv_key_to_account(\"ETH\",eth_pkey)"
   ]
  },
  {
   "cell_type": "code",
   "execution_count": null,
   "id": "13971322-38d0-404f-b102-043f29388550",
   "metadata": {},
   "outputs": [],
   "source": [
    "send = send_txn(\"ETH\",account_2,\"0x687422eea2cb73b5d3e242ba5456b782919afc85\",.0001)"
   ]
  }
 ],
 "metadata": {
  "kernelspec": {
   "display_name": "Python 3",
   "language": "python",
   "name": "python3"
  },
  "language_info": {
   "codemirror_mode": {
    "name": "ipython",
    "version": 3
   },
   "file_extension": ".py",
   "mimetype": "text/x-python",
   "name": "python",
   "nbconvert_exporter": "python",
   "pygments_lexer": "ipython3",
   "version": "3.7.10"
  }
 },
 "nbformat": 4,
 "nbformat_minor": 5
}
